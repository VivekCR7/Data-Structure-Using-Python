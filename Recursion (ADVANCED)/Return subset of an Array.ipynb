{
 "cells": [
  {
   "cell_type": "code",
   "execution_count": 5,
   "metadata": {},
   "outputs": [
    {
     "name": "stdout",
     "output_type": "stream",
     "text": [
      "3\n",
      "15 20 12\n",
      "\n",
      "12 \n",
      "20 \n",
      "20 12 \n",
      "15 \n",
      "15 12 \n",
      "15 20 \n",
      "15 20 12 \n"
     ]
    }
   ],
   "source": [
    "def subset(arr):\n",
    "    if arr == []:\n",
    "        return [[]]\n",
    "    \n",
    "    smallerArray = subset(arr[1:])\n",
    "    \n",
    "    return smallerArray + [[arr[0]] + i for i in smallerArray]\n",
    "\n",
    "\n",
    "\n",
    "n = int(input())\n",
    "arr = [ele for ele in input().split()]\n",
    "ans = subset(arr)\n",
    "for i in ans:\n",
    "    for j in i:\n",
    "        print(j, end=\" \")\n",
    "    print()\n",
    "           "
   ]
  }
 ],
 "metadata": {
  "kernelspec": {
   "display_name": "Python 3",
   "language": "python",
   "name": "python3"
  },
  "language_info": {
   "codemirror_mode": {
    "name": "ipython",
    "version": 3
   },
   "file_extension": ".py",
   "mimetype": "text/x-python",
   "name": "python",
   "nbconvert_exporter": "python",
   "pygments_lexer": "ipython3",
   "version": "3.6.9"
  }
 },
 "nbformat": 4,
 "nbformat_minor": 4
}
