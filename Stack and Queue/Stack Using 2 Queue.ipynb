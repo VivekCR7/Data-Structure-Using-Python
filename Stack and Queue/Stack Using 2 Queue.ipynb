{
 "cells": [
  {
   "cell_type": "code",
   "execution_count": null,
   "metadata": {},
   "outputs": [],
   "source": [
    "from queue import Queue\n",
    "\n",
    "class stack_using_2queue:\n",
    "    def __init__(self):\n",
    "        self.__q1 = Queue()\n",
    "        self.__q2 = Queue()\n",
    "        self.__c = 0\n",
    "    def push(self,data):\n",
    "        \n",
    "        self.__c+=1\n",
    "        \n",
    "        while (not self.q1.empty()): \n",
    "            self.q2.put(self.q1.queue[0])  \n",
    "            self.q1.get() \n",
    "            \n",
    "        self.q = self.q1  \n",
    "        self.q1 = self.q2  \n",
    "        self.q2 = self.q \n",
    "  \n",
    "        \n",
    "    def pop(self):\n",
    "        if (self.q1.empty()):  \n",
    "            return\n",
    "        self.q1.get()  \n",
    "        self.__c -= 1\n",
    "    \n",
    "    def top(self):\n",
    "        if (self.q1.empty()): \n",
    "            return -1\n",
    "        return self.q1.queue[0] \n",
    "    \n",
    "    def size(self):\n",
    "        return self.__c\n",
    "        \n",
    "    def isEmpty(self):\n",
    "        return self.size() == 0"
   ]
  }
 ],
 "metadata": {
  "kernelspec": {
   "display_name": "Python 3",
   "language": "python",
   "name": "python3"
  },
  "language_info": {
   "codemirror_mode": {
    "name": "ipython",
    "version": 3
   },
   "file_extension": ".py",
   "mimetype": "text/x-python",
   "name": "python",
   "nbconvert_exporter": "python",
   "pygments_lexer": "ipython3",
   "version": "3.7.3"
  }
 },
 "nbformat": 4,
 "nbformat_minor": 4
}
