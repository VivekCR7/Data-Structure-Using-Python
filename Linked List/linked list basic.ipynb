{
 "cells": [
  {
   "cell_type": "code",
   "execution_count": 10,
   "metadata": {},
   "outputs": [
    {
     "name": "stdout",
     "output_type": "stream",
     "text": [
      "1 2 3 4\n",
      "1\n",
      "2\n",
      "1->2->3->4->None\n"
     ]
    },
    {
     "data": {
      "text/plain": [
       "4"
      ]
     },
     "execution_count": 10,
     "metadata": {},
     "output_type": "execute_result"
    }
   ],
   "source": [
    "class Node:\n",
    "    def __init__(self,data):\n",
    "        self.data = data\n",
    "        self.next = None\n",
    "        \n",
    "def TakeInput():\n",
    "    \n",
    "    inputlist = [int(ele) for ele in input().split()]\n",
    "    head = None\n",
    "    tail = None\n",
    "    for currdata in inputlist:\n",
    "        if currdata == -1:\n",
    "            break\n",
    "        newnode = Node(currdata)\n",
    "        \n",
    "        if head is None:\n",
    "            head = newnode\n",
    "            tail = newnode\n",
    "        else:\n",
    "            tail.next = newnode\n",
    "            tail = newnode\n",
    "    return head\n",
    "\n",
    "def printLL(head):\n",
    "    while head is not None:\n",
    "        print(str(head.data)+'->',end=\"\")\n",
    "        head= head.next\n",
    "    print(\"None\")\n",
    "    return\n",
    "\n",
    "def lengthLL(head):\n",
    "    c = 0\n",
    "    while head is not None:\n",
    "        c+=1\n",
    "        head = head.next\n",
    "    return c\n",
    "\n",
    "def lengthLL_recursively(head):\n",
    "    if head is None:\n",
    "        return 0\n",
    "    return 1+lengthLL_recursively(head.next)\n",
    "\n",
    "\n",
    "def print_ith_node(head , i):\n",
    "    c = 0\n",
    "    while head is not None:\n",
    "        if c == i:\n",
    "            return head\n",
    "        head = head.next\n",
    "        c+=1\n",
    "    \n",
    "    \n",
    "    \n",
    "head = TakeInput()\n",
    "i = int(input())\n",
    "node = print_ith_node(head , i)\n",
    "if node:\n",
    "    print(node.data)\n",
    "printLL(head)\n",
    "#lengthLL(head)\n",
    "lengthLL_recursively(head)"
   ]
  }
 ],
 "metadata": {
  "kernelspec": {
   "display_name": "Python 3",
   "language": "python",
   "name": "python3"
  },
  "language_info": {
   "codemirror_mode": {
    "name": "ipython",
    "version": 3
   },
   "file_extension": ".py",
   "mimetype": "text/x-python",
   "name": "python",
   "nbconvert_exporter": "python",
   "pygments_lexer": "ipython3",
   "version": "3.7.3"
  }
 },
 "nbformat": 4,
 "nbformat_minor": 4
}
