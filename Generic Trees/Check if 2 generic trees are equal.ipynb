{
 "cells": [
  {
   "cell_type": "code",
   "execution_count": null,
   "metadata": {},
   "outputs": [
    {
     "name": "stdout",
     "output_type": "stream",
     "text": [
      "10 3 20 30 40 2 40 50 0 0 0 0\n",
      "10 3 20 30 40 2 40 50 0 0 0 0\n"
     ]
    }
   ],
   "source": [
    "class treeNode:\n",
    "    def __init__(self, data):\n",
    "        self.data = data\n",
    "        self.children = []\n",
    "\n",
    "import queue\n",
    "def isIdentical(root1, root2):\n",
    "    if root1 is None and root2 is None:\n",
    "        return True\n",
    "    \n",
    "    if root1 is None or root2 is None:\n",
    "        return False\n",
    "    \n",
    "    q1 = queue.Queue()\n",
    "    q2 = queue.Queue()\n",
    "    \n",
    "    q1.put(root1)\n",
    "    q2.put(root2)\n",
    "    \n",
    "    l1 = []\n",
    "    l2 = []\n",
    "    \n",
    "    while not(q1.empty()):\n",
    "        curr_node = q1.get()\n",
    "        l1.append(curr_node)\n",
    "        for child in root1.children:\n",
    "            l1.append(child)\n",
    "            q1.put(child)\n",
    "\n",
    "    while not(q2.empty()):\n",
    "        curr_node = q2.get()\n",
    "        l2.append(curr_node)\n",
    "        for child in root2.children:\n",
    "            l2.append(child)\n",
    "            q2.put(child)\n",
    "    \n",
    "    if len(l1)==len(l2):\n",
    "        for i in range(len(l1)):\n",
    "            if l1[i].data != l2[i].data:\n",
    "                return False\n",
    "        return True\n",
    "    else:\n",
    "        False\n",
    "            \n",
    "\n",
    "\n",
    "def createLevelWiseTree(arr):\n",
    "    root = treeNode(int(arr[0]))\n",
    "    q = [root]\n",
    "    size = len(arr)\n",
    "    i = 1\n",
    "    while i<size:\n",
    "        parent = q.pop(0)\n",
    "        childCount = int(arr[i])\n",
    "        i += 1\n",
    "        for j in range(0,childCount):\n",
    "            temp = treeNode(int(arr[i+j]))\n",
    "            parent.children.append(temp)\n",
    "            q.append(temp)\n",
    "        i += childCount\n",
    "    return root\n",
    "\n",
    "# Main\n",
    "arr1 = list(int(x) for x in input().strip().split(' '))\n",
    "root1 = createLevelWiseTree(arr1)\n",
    "arr2 = list(int(x) for x in input().strip().split(' '))\n",
    "root2 = createLevelWiseTree(arr2)\n",
    "if isIdentical(root1, root2):\n",
    "    print('true')\n",
    "else:\n",
    "    print('false')\n"
   ]
  }
 ],
 "metadata": {
  "kernelspec": {
   "display_name": "Python 3",
   "language": "python",
   "name": "python3"
  },
  "language_info": {
   "codemirror_mode": {
    "name": "ipython",
    "version": 3
   },
   "file_extension": ".py",
   "mimetype": "text/x-python",
   "name": "python",
   "nbconvert_exporter": "python",
   "pygments_lexer": "ipython3",
   "version": "3.7.3"
  }
 },
 "nbformat": 4,
 "nbformat_minor": 4
}
