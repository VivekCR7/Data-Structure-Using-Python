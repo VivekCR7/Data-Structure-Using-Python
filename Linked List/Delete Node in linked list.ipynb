{
 "cells": [
  {
   "cell_type": "code",
   "execution_count": 7,
   "metadata": {},
   "outputs": [
    {
     "name": "stdout",
     "output_type": "stream",
     "text": [
      "1 2 3 4 5 6\n",
      "2\n",
      "1->2->4->5->6->"
     ]
    }
   ],
   "source": [
    "class Node:\n",
    "    def __init__(self,data):\n",
    "        self.data = data\n",
    "        self.next = None\n",
    "        \n",
    "def TakeInput():\n",
    "    inputlist = [int(ele) for ele in input().split()]\n",
    "    head = None\n",
    "    tail = None\n",
    "    for currdata in inputlist:\n",
    "        if currdata == -1:\n",
    "            break\n",
    "        newnode = Node(currdata)\n",
    "        \n",
    "        if head is None:\n",
    "            head = newnode\n",
    "            tail = newnode\n",
    "        else:\n",
    "            tail.next = newnode\n",
    "            tail = newnode\n",
    "    return head\n",
    "\n",
    "def length(head):\n",
    "    if head is None:\n",
    "        return 0\n",
    "    return 1 + length(head.next)\n",
    "\n",
    "def delete_node_iteratively(head, i):\n",
    "    if i<0 or i>=length(head):\n",
    "        return head\n",
    "    if i == 0:\n",
    "        head = head.next\n",
    "        return head\n",
    "    else:\n",
    "        prev = head\n",
    "        for j in range(0,i-1):\n",
    "            prev = prev.next\n",
    "        end = prev.next.next\n",
    "        prev.next = None\n",
    "        prev.next = end\n",
    "        \n",
    "    return head\n",
    "\n",
    "def delete_node_recursively(head, i):\n",
    "    if i<0 or i>=length(head):\n",
    "        return head\n",
    "    if i == 0:\n",
    "        head = head.next\n",
    "        return head\n",
    "    smallhead = delete_node_recursively(head.next, i-1)\n",
    "    head.next = smallhead\n",
    "    return head\n",
    "    \n",
    "    \n",
    "\n",
    "def printll(head):\n",
    "    while head is not None:\n",
    "        print(str(head.data)+'->',end=\"\")\n",
    "        head = head.next\n",
    "    \n",
    "    return head\n",
    "    \n",
    "    \n",
    "    \n",
    "head = TakeInput()\n",
    "i = int(input())\n",
    "#delete_node_iteratively(head, i)\n",
    "head = delete_node_recursively(head, i)\n",
    "printll(head)\n",
    "    \n"
   ]
  }
 ],
 "metadata": {
  "kernelspec": {
   "display_name": "Python 3",
   "language": "python",
   "name": "python3"
  },
  "language_info": {
   "codemirror_mode": {
    "name": "ipython",
    "version": 3
   },
   "file_extension": ".py",
   "mimetype": "text/x-python",
   "name": "python",
   "nbconvert_exporter": "python",
   "pygments_lexer": "ipython3",
   "version": "3.7.3"
  }
 },
 "nbformat": 4,
 "nbformat_minor": 4
}
