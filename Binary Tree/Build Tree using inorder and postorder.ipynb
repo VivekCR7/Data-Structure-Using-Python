{
 "cells": [
  {
   "cell_type": "code",
   "execution_count": 4,
   "metadata": {},
   "outputs": [
    {
     "name": "stdout",
     "output_type": "stream",
     "text": [
      "1\n",
      "2\n",
      "4\n",
      "5\n",
      "3\n",
      "6\n",
      "7\n"
     ]
    }
   ],
   "source": [
    "class BinaryTreeNode:\n",
    "    def __init__(self,data):\n",
    "        self.data = data\n",
    "        self.left = None\n",
    "        self.right = None\n",
    "        \n",
    "def BuildTreeUsingPostandIn(postorder,inorder):\n",
    "    if len(postorder) == 0:\n",
    "        return None\n",
    "    rootdata = postorder[len(postorder)-1]\n",
    "    root = BinaryTreeNode(rootdata)\n",
    "    rootinorderindex = -1\n",
    "    for i in range(0,len(inorder)):\n",
    "        if inorder[i] == rootdata:\n",
    "            rootinorderindex = i\n",
    "            break\n",
    "    if rootinorderindex == -1:\n",
    "        return None\n",
    "    \n",
    "    leftinorder = inorder[0:rootinorderindex]\n",
    "    rightinorder = inorder[rootinorderindex +1 :]\n",
    "    \n",
    "    leftsubtree = len(leftinorder)\n",
    "    \n",
    "    leftpostorder = postorder[0:leftsubtree]\n",
    "    rightpostorder = postorder[leftsubtree:len(postorder)-1]\n",
    "    \n",
    "    leftchild = BuildTreeUsingPostandIn(leftpostorder,leftinorder)\n",
    "    rightchild = BuildTreeUsingPostandIn(rightpostorder,rightinorder)\n",
    "    \n",
    "    root.left = leftchild\n",
    "    root.right = rightchild\n",
    "    return root\n",
    "\n",
    "def printTree(root):\n",
    "    if root is None:\n",
    "        return\n",
    "    \n",
    "    print(root.data)\n",
    "    printTree(root.left)\n",
    "    printTree(root.right)\n",
    "    \n",
    "\n",
    "postorder = [4,5,2,6,7,3,1]\n",
    "inorder = [4,2,5,1,6,3,7]\n",
    "root = BuildTreeUsingPostandIn(postorder,inorder)\n",
    "printTree(root)\n",
    "    \n",
    "    \n",
    "    \n",
    "    "
   ]
  },
  {
   "cell_type": "code",
   "execution_count": null,
   "metadata": {},
   "outputs": [],
   "source": []
  }
 ],
 "metadata": {
  "kernelspec": {
   "display_name": "Python 3",
   "language": "python",
   "name": "python3"
  },
  "language_info": {
   "codemirror_mode": {
    "name": "ipython",
    "version": 3
   },
   "file_extension": ".py",
   "mimetype": "text/x-python",
   "name": "python",
   "nbconvert_exporter": "python",
   "pygments_lexer": "ipython3",
   "version": "3.7.3"
  }
 },
 "nbformat": 4,
 "nbformat_minor": 4
}
