{
 "cells": [
  {
   "cell_type": "code",
   "execution_count": 4,
   "metadata": {},
   "outputs": [
    {
     "name": "stdout",
     "output_type": "stream",
     "text": [
      "1\n",
      "2\n",
      "3\n",
      "4\n"
     ]
    },
    {
     "data": {
      "text/plain": [
       "-1"
      ]
     },
     "execution_count": 4,
     "metadata": {},
     "output_type": "execute_result"
    }
   ],
   "source": [
    "class queue_using_2stacks:\n",
    "    def __init__(self):\n",
    "        self.__s1 = []\n",
    "        self.__s2 = []\n",
    "    \n",
    "    def enqueue(self,data):\n",
    "        #0(N)\n",
    "        while(len(self.__s1)!=0):\n",
    "            self.__s2.append(self.__s1.pop())\n",
    "            \n",
    "        self.__s1.append(data)\n",
    "        \n",
    "        while(len(self.__s2)!=0):\n",
    "            self.__s1.append(self.__s2.pop())\n",
    "            \n",
    "        return\n",
    "    def dequeue(self):\n",
    "        #0(1)\n",
    "        if (len(self.__s1) == 0):\n",
    "            return -1\n",
    "        return self.__s1.pop()\n",
    "    \n",
    "    def front(self):\n",
    "        if (len(self.__s1) == 0):\n",
    "            return -1\n",
    "        return self.__s1[-1]\n",
    "    def size(self):\n",
    "        return len(self.__s1)\n",
    "    def isEmpty(self):\n",
    "        return self.size() == 0\n",
    "    \n",
    "q = queue_using_2stacks()\n",
    "q.enqueue(1)\n",
    "q.enqueue(2)\n",
    "q.enqueue(3)\n",
    "q.enqueue(4)\n",
    "while(q.isEmpty() is False):\n",
    "    print(q.front())\n",
    "    q.dequeue()\n",
    "    \n",
    "q.dequeue()\n"
   ]
  },
  {
   "cell_type": "code",
   "execution_count": null,
   "metadata": {},
   "outputs": [],
   "source": []
  }
 ],
 "metadata": {
  "kernelspec": {
   "display_name": "Python 3",
   "language": "python",
   "name": "python3"
  },
  "language_info": {
   "codemirror_mode": {
    "name": "ipython",
    "version": 3
   },
   "file_extension": ".py",
   "mimetype": "text/x-python",
   "name": "python",
   "nbconvert_exporter": "python",
   "pygments_lexer": "ipython3",
   "version": "3.7.3"
  }
 },
 "nbformat": 4,
 "nbformat_minor": 4
}
