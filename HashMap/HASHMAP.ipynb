{
 "cells": [
  {
   "cell_type": "code",
   "execution_count": 20,
   "metadata": {},
   "outputs": [
    {
     "name": "stdout",
     "output_type": "stream",
     "text": [
      "1\n",
      "2\n",
      "2\n",
      "16\n",
      "None\n",
      "1\n"
     ]
    }
   ],
   "source": [
    "class MapNode:\n",
    "    def __init__(self,key,value):\n",
    "        self.key = key\n",
    "        self.value = value\n",
    "        self.next = None\n",
    "        \n",
    "class Map:\n",
    "    def __init__(self):\n",
    "        self.bucketsize = 10\n",
    "        self.buckets = [None for i in range(self.bucketsize)]\n",
    "        self.count = 0\n",
    "        \n",
    "    def size(self):\n",
    "        return self.count\n",
    "    \n",
    "    def getBucketIndex(self,hashcode):\n",
    "        return (abs(hashcode)%self.bucketsize)         #hash() function return any integer(-ve to ve), that's why we use (abs)\n",
    "    \n",
    "    def insert(self,key,value):\n",
    "        hashcode = hash(key)\n",
    "        index = self.getBucketIndex(hashcode)\n",
    "        head = self.buckets[index]\n",
    "        while head is not None:\n",
    "            if head.key == key:\n",
    "                head.value = value\n",
    "                return\n",
    "            head = head.next\n",
    "        head = self.buckets[index]\n",
    "        #if we reach here it means we don't have head\n",
    "        newnode = MapNode(key,value)\n",
    "        newnode.next = head\n",
    "        self.buckets[index] = newnode\n",
    "        self.count += 1\n",
    "        \n",
    "    def search(self,key):\n",
    "        hashcode = hash(key)\n",
    "        index = self.getBucketIndex(hashcode)\n",
    "        head = self.buckets[index]\n",
    "        while head is not None:\n",
    "            if head.key == key:\n",
    "                return head.value\n",
    "            head = head.next\n",
    "        return None\n",
    "    \n",
    "    def remove(self,key):\n",
    "        hashcode = hash(key)\n",
    "        index = self.getBucketIndex(hashcode)\n",
    "        head = self.buckets[index]\n",
    "        prev = None\n",
    "        while head is not None:\n",
    "            if head.key == key:\n",
    "                if prev == None:\n",
    "                    self.buckets[index] = head.next\n",
    "                else:\n",
    "                    prev.next = head.next\n",
    "                self.count -= 1\n",
    "                return head.value\n",
    "            prev = head\n",
    "            head = head.next\n",
    "        return None\n",
    "                \n",
    "\n",
    "m = Map()\n",
    "m.insert('Vivek', 16)  \n",
    "print(m.size()) \n",
    "m.insert('Ronaldo', 9)\n",
    "print(m.size()) \n",
    "m.insert('Ronaldo', 7)\n",
    "print(m.size())  \n",
    "print(m.search('Vivek'))\n",
    "m.remove('Ronaldo')\n",
    "print(m.search('Ronaldo'))\n",
    "print(m.size())"
   ]
  }
 ],
 "metadata": {
  "kernelspec": {
   "display_name": "Python 3",
   "language": "python",
   "name": "python3"
  },
  "language_info": {
   "codemirror_mode": {
    "name": "ipython",
    "version": 3
   },
   "file_extension": ".py",
   "mimetype": "text/x-python",
   "name": "python",
   "nbconvert_exporter": "python",
   "pygments_lexer": "ipython3",
   "version": "3.7.3"
  }
 },
 "nbformat": 4,
 "nbformat_minor": 4
}
