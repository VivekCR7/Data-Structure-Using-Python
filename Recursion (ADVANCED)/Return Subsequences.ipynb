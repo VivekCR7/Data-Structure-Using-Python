{
 "cells": [
  {
   "cell_type": "code",
   "execution_count": 3,
   "metadata": {},
   "outputs": [
    {
     "name": "stdout",
     "output_type": "stream",
     "text": [
      "abc\n",
      "\n",
      "c\n",
      "b\n",
      "bc\n",
      "a\n",
      "ac\n",
      "ab\n",
      "abc\n"
     ]
    }
   ],
   "source": [
    "def subsequences(string):\n",
    "    \n",
    "    if len(string) == 0:\n",
    "        subString = []\n",
    "        subString.append(\"\")\n",
    "        return subString\n",
    "    \n",
    "    smallerString = string[1:]\n",
    "    smallerSubString = subsequences(smallerString)\n",
    "    \n",
    "    output = []\n",
    "    for subS in smallerSubString:\n",
    "        output.append(subS)\n",
    "    \n",
    "    for subS in smallerSubString:\n",
    "        subs_with_zero_char = string[0] + subS\n",
    "        output.append(subs_with_zero_char)\n",
    "        \n",
    "    return output\n",
    "\n",
    "\n",
    "string = input()\n",
    "ans = subsequences(string)\n",
    "for ele in ans:\n",
    "    print(ele)\n",
    "\n"
   ]
  },
  {
   "cell_type": "markdown",
   "metadata": {},
   "source": [
    "# Print instead of Returning"
   ]
  },
  {
   "cell_type": "code",
   "execution_count": 4,
   "metadata": {},
   "outputs": [
    {
     "name": "stdout",
     "output_type": "stream",
     "text": [
      "abc\n",
      "\n",
      "c\n",
      "b\n",
      "bc\n",
      "a\n",
      "ac\n",
      "ab\n",
      "abc\n"
     ]
    }
   ],
   "source": [
    "def printSubs(s, ans):\n",
    "    if len(s) == 0:\n",
    "        print(ans)\n",
    "        return\n",
    "    \n",
    "    #don't include 0th char\n",
    "    printSubs(s[1:], ans)\n",
    "    \n",
    "    #include 0th char\n",
    "    newAns = ans + s[0]\n",
    "    printSubs(s[1:], newAns)\n",
    "    \n",
    "s = input()\n",
    "printSubs(s,\"\")"
   ]
  }
 ],
 "metadata": {
  "kernelspec": {
   "display_name": "Python 3",
   "language": "python",
   "name": "python3"
  },
  "language_info": {
   "codemirror_mode": {
    "name": "ipython",
    "version": 3
   },
   "file_extension": ".py",
   "mimetype": "text/x-python",
   "name": "python",
   "nbconvert_exporter": "python",
   "pygments_lexer": "ipython3",
   "version": "3.6.9"
  }
 },
 "nbformat": 4,
 "nbformat_minor": 4
}
