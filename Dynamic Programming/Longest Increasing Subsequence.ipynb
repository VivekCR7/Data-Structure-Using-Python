{
 "cells": [
  {
   "cell_type": "code",
   "execution_count": 6,
   "metadata": {},
   "outputs": [
    {
     "name": "stdout",
     "output_type": "stream",
     "text": [
      "7\n",
      "6 3 1 2 7 0 9\n",
      "4\n"
     ]
    }
   ],
   "source": [
    "#recursion\n",
    "def LIS(li,i,n,dp):\n",
    "    \n",
    "    if i == n:\n",
    "        return 0,0\n",
    "    \n",
    "    \n",
    "    including_max = 1\n",
    "    for j in range(i+1,n):\n",
    "        if li[j] >= li[i]:\n",
    "            if dp[j] == -1:\n",
    "                ans = LIS(li,j,n,dp)\n",
    "                dp[j] = ans\n",
    "                further_including_max = ans[0]\n",
    "            else:\n",
    "                further_including_max = dp[j][0]\n",
    "            including_max = max(including_max,1 + further_including_max)\n",
    "    \n",
    "    if dp[i+1] == -1:\n",
    "        ans =  LIS(li,i+1,n,dp)\n",
    "        dp[i+1] = ans[1]\n",
    "        excluding_max = ans[1]\n",
    "    else:\n",
    "        excluding_max = dp[i+1][1]\n",
    "    overallMax = max(including_max,excluding_max)\n",
    "    \n",
    "    return including_max,overallMax\n",
    "\n",
    "#iterative\n",
    "def lis(li,n):\n",
    "    dp = [[0 for j in range (2)] for i in range (n+1)]\n",
    "    \n",
    "    for i in range (n-1,-1,-1):\n",
    "        including__max = 1\n",
    "        for j in range(i+1,n):\n",
    "            if li[j]>li[i]:\n",
    "                including__max = max(including__max, 1 + dp[j][0])\n",
    "        dp[i][0] = including__max\n",
    "        excluding__max = dp[i+1][1]\n",
    "        overallMax = max(including__max, excluding__max)\n",
    "        dp[i][1] = overallMax\n",
    "    return dp[0][1]\n",
    "    \n",
    "\n",
    "n = int(input())\n",
    "li = [int(ele) for ele in input().split()]\n",
    "dp = [-1 for i in range(n+1)]\n",
    "ans = LIS(li,0,n,dp)[1]\n",
    "print(ans)"
   ]
  }
 ],
 "metadata": {
  "kernelspec": {
   "display_name": "Python 3",
   "language": "python",
   "name": "python3"
  },
  "language_info": {
   "codemirror_mode": {
    "name": "ipython",
    "version": 3
   },
   "file_extension": ".py",
   "mimetype": "text/x-python",
   "name": "python",
   "nbconvert_exporter": "python",
   "pygments_lexer": "ipython3",
   "version": "3.6.9"
  }
 },
 "nbformat": 4,
 "nbformat_minor": 4
}
