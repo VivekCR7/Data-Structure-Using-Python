{
 "cells": [
  {
   "cell_type": "code",
   "execution_count": 6,
   "metadata": {},
   "outputs": [
    {
     "name": "stdout",
     "output_type": "stream",
     "text": [
      "()\n",
      "true\n"
     ]
    }
   ],
   "source": [
    "import queue\n",
    "\n",
    "s = queue.LifoQueue()\n",
    "\n",
    "def isBalanced(str):\n",
    "    \n",
    "    for i in str:       \n",
    "        if i in \"{([\":\n",
    "            s.put(i)\n",
    "        \n",
    "        elif i == '}':\n",
    "            if (s.empty() or s.queue[-1] != '{'):\n",
    "                return False\n",
    "            s.get()\n",
    "            \n",
    "        elif i == ')':\n",
    "            if (s.empty() or s.queue[-1] != '('):\n",
    "                return False\n",
    "            s.get()\n",
    "            \n",
    "        elif i == ']':\n",
    "            if (s.empty() or s.queue[-1] != '['):\n",
    "                return False\n",
    "            s.get()\n",
    "        \n",
    "         \n",
    "    if s.empty():\n",
    "        return True\n",
    "    return False\n",
    "    \n",
    "    \n",
    "exp=input()\n",
    "if isBalanced(exp):\n",
    "    print('true')\n",
    "else:\n",
    "    print('false')\n",
    "\n"
   ]
  }
 ],
 "metadata": {
  "kernelspec": {
   "display_name": "Python 3",
   "language": "python",
   "name": "python3"
  },
  "language_info": {
   "codemirror_mode": {
    "name": "ipython",
    "version": 3
   },
   "file_extension": ".py",
   "mimetype": "text/x-python",
   "name": "python",
   "nbconvert_exporter": "python",
   "pygments_lexer": "ipython3",
   "version": "3.7.3"
  }
 },
 "nbformat": 4,
 "nbformat_minor": 4
}
