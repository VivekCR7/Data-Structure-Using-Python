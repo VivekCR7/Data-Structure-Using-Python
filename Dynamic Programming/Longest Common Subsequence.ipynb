{
 "cells": [
  {
   "cell_type": "code",
   "execution_count": 7,
   "metadata": {},
   "outputs": [
    {
     "name": "stdout",
     "output_type": "stream",
     "text": [
      "abedgjc\n",
      "bmdgsc\n",
      "4\n",
      "4\n"
     ]
    }
   ],
   "source": [
    "#recursion\n",
    "def LCS(str1,str2,i,j,dp):\n",
    "    \n",
    "    #base case\n",
    "    if i == len(str1) or j == len(str2):\n",
    "        return 0\n",
    "    \n",
    "    if str1[i] == str2[j]:\n",
    "        if dp[i+1][j+1] == -1:\n",
    "            smallAns = LCS(str1,str2,i+1,j+1,dp)\n",
    "            dp[i+1][j+1] = smallAns\n",
    "            ans = 1+smallAns\n",
    "        else:\n",
    "            ans = 1+dp[i+1][j+1]\n",
    "    else:\n",
    "        if dp[i+1][j] == -1:\n",
    "            ans1 = LCS(str1,str2,i+1,j,dp)\n",
    "            dp[i+1][j] = ans1\n",
    "        else:\n",
    "            ans1 = dp[i+1][j]\n",
    "            \n",
    "        if dp[i][j+1] == -1:\n",
    "            ans2 = LCS(str1,str2,i,j+1,dp)\n",
    "            dp[i][j+1] = ans2\n",
    "        else:\n",
    "            ans2 = dp[i][j+1]\n",
    "        ans = max(ans1,ans2)\n",
    "        \n",
    "    return ans\n",
    "\n",
    "#iterative\n",
    "def LCS_iterative(str1,str2):\n",
    "    \n",
    "    n = len(str1)\n",
    "    m = len(str2)\n",
    "    \n",
    "    dp = [[0 for j in range(m+1)] for i in range(n+1)]\n",
    "    \n",
    "    for i in range(n-1,-1,-1):\n",
    "        for j in range(m-1,-1,-1):\n",
    "            \n",
    "            if str1[i] == str2[j]:\n",
    "                dp[i][j] = 1+dp[i+1][j+1]\n",
    "            else:\n",
    "                dp[i][j] = max(dp[i+1][j],dp[i][j+1])\n",
    "                \n",
    "    return dp[0][0]\n",
    "                  \n",
    "\n",
    "\n",
    "\n",
    "str1 = input().strip()\n",
    "str2 = input().strip()\n",
    "n = len(str1)\n",
    "m = len(str2)\n",
    "dp = [[-1 for j in range(m+1)] for i in range(n+1)]\n",
    "ans = LCS(str1,str2,0,0,dp)\n",
    "ans1 = LCS_iterative(str1,str2)\n",
    "print(ans)\n",
    "print(ans1)"
   ]
  }
 ],
 "metadata": {
  "kernelspec": {
   "display_name": "Python 3",
   "language": "python",
   "name": "python3"
  },
  "language_info": {
   "codemirror_mode": {
    "name": "ipython",
    "version": 3
   },
   "file_extension": ".py",
   "mimetype": "text/x-python",
   "name": "python",
   "nbconvert_exporter": "python",
   "pygments_lexer": "ipython3",
   "version": "3.6.9"
  }
 },
 "nbformat": 4,
 "nbformat_minor": 4
}
