{
 "cells": [
  {
   "cell_type": "code",
   "execution_count": null,
   "metadata": {},
   "outputs": [
    {
     "name": "stdout",
     "output_type": "stream",
     "text": [
      "20\n"
     ]
    }
   ],
   "source": [
    "import heapq\n",
    "def checkMaxHeap(arr,i):\n",
    "    if 2*i+2 > len(arr):\n",
    "        return True\n",
    "    \n",
    "    left = (arr[i]>=arr[2*i+1]) and checkMaxHeap(arr,2*i+1)\n",
    "    right = (2*i+2 == len(arr)) or(arr[i] > arr[2*i+2] and checkMaxHeap(arr,2*i+2))\n",
    "    #print(left, right)\n",
    "    return left and right\n",
    "    \n",
    "    \n",
    "# Main Code\n",
    "n=int(input())\n",
    "arr=list(int(i) for i in input().strip().split(' '))\n",
    "print('true') if checkMaxHeap(arr,0) else print('false')\n",
    "\n"
   ]
  }
 ],
 "metadata": {
  "kernelspec": {
   "display_name": "Python 3",
   "language": "python",
   "name": "python3"
  },
  "language_info": {
   "codemirror_mode": {
    "name": "ipython",
    "version": 3
   },
   "file_extension": ".py",
   "mimetype": "text/x-python",
   "name": "python",
   "nbconvert_exporter": "python",
   "pygments_lexer": "ipython3",
   "version": "3.6.9"
  }
 },
 "nbformat": 4,
 "nbformat_minor": 4
}
