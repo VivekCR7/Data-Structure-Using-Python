{
 "cells": [
  {
   "cell_type": "code",
   "execution_count": 1,
   "metadata": {},
   "outputs": [
    {
     "name": "stdout",
     "output_type": "stream",
     "text": [
      "11\n",
      "89\n",
      "0.0005674362182617188\n"
     ]
    }
   ],
   "source": [
    "\"\"\"\n",
    "The below method is done using recursion , where time complexity is O(2^n) in worst case.\n",
    "Its because that function is using the same work multiple times, for eg: fib of 5\n",
    "             5\n",
    "             \n",
    "       4           3\n",
    "       \n",
    "    3     2     2     1\n",
    "    \n",
    "  2   1 1   0 1   0\n",
    "  \n",
    "1   0\n",
    "\n",
    "the above tree is for the fib of 5 , as we can see the 4 is calling 3 and 5 is also calling 3 , means there \n",
    "is extra work is happening. same with the 2 is called by 3 and 4 and again by 3 this increases the time complexity\n",
    "\n",
    "\"\"\"\n",
    "\n",
    "\n",
    "import time\n",
    "def fib(n):\n",
    "    if n == 0 or n == 1:\n",
    "        return n\n",
    "    \n",
    "    ans1 = fib(n-1)\n",
    "    ans2 = fib(n-2)\n",
    "    myans = ans1+ans2\n",
    "    \n",
    "    return myans\n",
    "\n",
    "n = int(input())\n",
    "a = time.time()\n",
    "ans = fib(n)\n",
    "b = time.time()\n",
    "print(ans)\n",
    "print(b-a)"
   ]
  },
  {
   "cell_type": "code",
   "execution_count": 2,
   "metadata": {},
   "outputs": [
    {
     "name": "stdout",
     "output_type": "stream",
     "text": [
      "11\n",
      "89\n",
      "0.00012421607971191406\n"
     ]
    }
   ],
   "source": [
    "\"\"\"\n",
    "The below method is done by the help of dynamic programming its time complexity is O(n)\n",
    "there's 2 thing dynamic programming consist of:\n",
    "1) optimal structure: its says as, my problem can be solved if i know the ans of my smaller problem i.e, Recursion\n",
    "2) overlapping subproblems: its says that evey function call should be unique , nothing to be repeated\n",
    "\n",
    "for eg: fib of 5\n",
    "\n",
    "                5\n",
    "            4\n",
    "        3\n",
    "    2\n",
    "1       0\n",
    "\n",
    "\n",
    "the above tree is for the fib of 5 using dynamic programming where call is unique, here the function 3 needs to\n",
    "call its right side that is 2, but we know the ans of 2 already ,so we gonna use that ans to get the fib of 3\n",
    "and then 4 and 5\n",
    "\"\"\"\n",
    "\n",
    "\n",
    "import time\n",
    "def fib(n,dp):\n",
    "    if n == 0 or n == 1:\n",
    "        return n\n",
    "    \n",
    "    if dp[n-1] == -1:\n",
    "        ans1 = fib(n-1,dp)\n",
    "        dp[n-1] = ans1\n",
    "    else:\n",
    "        ans1 = dp[n-1]\n",
    "        \n",
    "    if dp[n-2] == -1:\n",
    "        ans2 = fib(n-2,dp)\n",
    "        dp[n-2] = ans2\n",
    "    else:\n",
    "        ans2 = dp[n-2]\n",
    "    \n",
    "    myans = ans1+ans2\n",
    "    \n",
    "    return myans\n",
    "\n",
    "n = int(input())\n",
    "dp = [-1 for i in range(n+1)]\n",
    "a = time.time()\n",
    "ans = fib(n,dp)\n",
    "b = time.time()\n",
    "print(ans)\n",
    "print(b-a)"
   ]
  }
 ],
 "metadata": {
  "kernelspec": {
   "display_name": "Python 3",
   "language": "python",
   "name": "python3"
  },
  "language_info": {
   "codemirror_mode": {
    "name": "ipython",
    "version": 3
   },
   "file_extension": ".py",
   "mimetype": "text/x-python",
   "name": "python",
   "nbconvert_exporter": "python",
   "pygments_lexer": "ipython3",
   "version": "3.6.9"
  }
 },
 "nbformat": 4,
 "nbformat_minor": 4
}
