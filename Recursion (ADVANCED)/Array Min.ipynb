{
 "cells": [
  {
   "cell_type": "code",
   "execution_count": 7,
   "metadata": {},
   "outputs": [],
   "source": [
    "def minList(l):\n",
    "    if len(l) == 1:\n",
    "        return l[0]\n",
    "    \n",
    "    minSmallArray = minList(l[1:])\n",
    "    overallMin = min(minSmallArray,l[0])\n",
    "    return overallMin"
   ]
  },
  {
   "cell_type": "code",
   "execution_count": 8,
   "metadata": {},
   "outputs": [
    {
     "name": "stdout",
     "output_type": "stream",
     "text": [
      "1 2 3 4 -1 0 -2 -4 9\n"
     ]
    },
    {
     "data": {
      "text/plain": [
       "-4"
      ]
     },
     "execution_count": 8,
     "metadata": {},
     "output_type": "execute_result"
    }
   ],
   "source": [
    "l = [int(i) for i in input().split()]\n",
    "minList(l)"
   ]
  },
  {
   "cell_type": "markdown",
   "metadata": {},
   "source": [
    "# Print instead of Returning"
   ]
  },
  {
   "cell_type": "code",
   "execution_count": 9,
   "metadata": {},
   "outputs": [],
   "source": [
    "def printMin(l, minSofar = 1000000):\n",
    "    if len(l) == 0:\n",
    "        print(minSofar)\n",
    "        return\n",
    "    \n",
    "    newMin = min(minSofar, l[0])\n",
    "    printMin(l[1:],newMin)"
   ]
  },
  {
   "cell_type": "code",
   "execution_count": 10,
   "metadata": {},
   "outputs": [
    {
     "name": "stdout",
     "output_type": "stream",
     "text": [
      "1 2 3 4 -1 0 -2 -4 9\n",
      "-4\n"
     ]
    }
   ],
   "source": [
    "l = [int(i) for i in input().split()]\n",
    "printMin(l)"
   ]
  }
 ],
 "metadata": {
  "kernelspec": {
   "display_name": "Python 3",
   "language": "python",
   "name": "python3"
  },
  "language_info": {
   "codemirror_mode": {
    "name": "ipython",
    "version": 3
   },
   "file_extension": ".py",
   "mimetype": "text/x-python",
   "name": "python",
   "nbconvert_exporter": "python",
   "pygments_lexer": "ipython3",
   "version": "3.6.9"
  }
 },
 "nbformat": 4,
 "nbformat_minor": 4
}
