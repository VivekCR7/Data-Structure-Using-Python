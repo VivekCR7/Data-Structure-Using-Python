{
 "cells": [
  {
   "cell_type": "code",
   "execution_count": 4,
   "metadata": {},
   "outputs": [
    {
     "name": "stdout",
     "output_type": "stream",
     "text": [
      "5\n",
      "2 1 -2 2 3\n",
      "-2 2\n",
      "-2 2\n"
     ]
    }
   ],
   "source": [
    "def pairSum0(l):\n",
    "    d = {}\n",
    "    for i in l:\n",
    "        if -i in d:\n",
    "            a = d[-i]\n",
    "            if -i<i:\n",
    "                for j in range(a):\n",
    "                    print(-i,i)\n",
    "            else:\n",
    "                for j in range(a):\n",
    "                    print(i,-i)\n",
    "        d[i] = d.get(i,0)+1\n",
    "             \n",
    "\n",
    "n=int(input())\n",
    "l=list(int(i) for i in input().strip().split(' '))\n",
    "pairSum0(l)"
   ]
  }
 ],
 "metadata": {
  "kernelspec": {
   "display_name": "Python 3",
   "language": "python",
   "name": "python3"
  },
  "language_info": {
   "codemirror_mode": {
    "name": "ipython",
    "version": 3
   },
   "file_extension": ".py",
   "mimetype": "text/x-python",
   "name": "python",
   "nbconvert_exporter": "python",
   "pygments_lexer": "ipython3",
   "version": "3.7.3"
  }
 },
 "nbformat": 4,
 "nbformat_minor": 4
}
