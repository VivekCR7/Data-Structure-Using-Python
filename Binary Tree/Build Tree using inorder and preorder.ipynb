{
 "cells": [
  {
   "cell_type": "code",
   "execution_count": 1,
   "metadata": {},
   "outputs": [
    {
     "name": "stdout",
     "output_type": "stream",
     "text": [
      "1\n",
      "2\n",
      "4\n",
      "5\n",
      "3\n",
      "6\n",
      "7\n"
     ]
    }
   ],
   "source": [
    "class BinaryTreeNode:\n",
    "    def __init__(self,data):\n",
    "        self.data = data\n",
    "        self.left = None\n",
    "        self.right = None\n",
    "        \n",
    "def buildtreefrompre_in(pre,inorder):\n",
    "    if len(pre) == 0:\n",
    "        return None\n",
    "    \n",
    "    rootdata = pre[0]\n",
    "    root = BinaryTreeNode(rootdata)\n",
    "    rootindexininorder = -1\n",
    "    for i in range(0,len(inorder)):\n",
    "        if inorder[i] == rootdata:\n",
    "            rootindexininorder = i\n",
    "            break\n",
    "    if rootindexininorder == -1:\n",
    "        return None\n",
    "    \n",
    "    leftinorder = inorder[0:rootindexininorder]\n",
    "    rightinorder = inorder[rootindexininorder+1:]\n",
    "    \n",
    "    lenleftsubtree = len(leftinorder)\n",
    "    \n",
    "    leftpreorder = pre[1:lenleftsubtree+1]\n",
    "    rightpreorder = pre[lenleftsubtree + 1:]\n",
    "    \n",
    "    leftchild = buildtreefrompre_in(leftpreorder,leftinorder)\n",
    "    rightchild = buildtreefrompre_in(rightpreorder,rightinorder)\n",
    "    \n",
    "    root.left = leftchild\n",
    "    root.right = rightchild\n",
    "    return root\n",
    "\n",
    "def printTree(root):\n",
    "    if root is None:\n",
    "        return\n",
    "    \n",
    "    print(root.data)\n",
    "    printTree(root.left)\n",
    "    printTree(root.right)\n",
    "    \n",
    "    \n",
    "pre = [1,2,4,5,3,6,7]\n",
    "inorder = [4,2,5,1,6,3,7]\n",
    "root = buildtreefrompre_in(pre,inorder)\n",
    "printTree(root)\n",
    "    "
   ]
  }
 ],
 "metadata": {
  "kernelspec": {
   "display_name": "Python 3",
   "language": "python",
   "name": "python3"
  },
  "language_info": {
   "codemirror_mode": {
    "name": "ipython",
    "version": 3
   },
   "file_extension": ".py",
   "mimetype": "text/x-python",
   "name": "python",
   "nbconvert_exporter": "python",
   "pygments_lexer": "ipython3",
   "version": "3.7.3"
  }
 },
 "nbformat": 4,
 "nbformat_minor": 4
}
