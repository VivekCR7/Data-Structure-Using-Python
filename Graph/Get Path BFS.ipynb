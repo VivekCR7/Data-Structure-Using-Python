{
 "cells": [
  {
   "cell_type": "code",
   "execution_count": null,
   "metadata": {},
   "outputs": [],
   "source": [
    "## Read input as specified in the question.\n",
    "## Print output as specified in the question.\n",
    "class Graph:\n",
    "    def __init__(self, nVertices):\n",
    "        self.nVertices = nVertices\n",
    "        self.adjMatrix = [[0 for i in range(nVertices)] for j in range(nVertices)]\n",
    "           \n",
    "    def addEdge(self, v1, v2):\n",
    "        self.adjMatrix[v1][v2] = 1\n",
    "        self.adjMatrix[v2][v1] = 1\n",
    "    \n",
    "    def getPath(self, v1, v2):        \n",
    "        parent = {}\n",
    "        visited = [False] * self.nVertices\n",
    "        \n",
    "        queue = []\n",
    "        queue.append(v1)\n",
    "        visited[v1] = True\n",
    "        \n",
    "        while queue:\n",
    "            front = queue.pop(0)\n",
    "                                    \n",
    "            if front == v2:\n",
    "                return parent\n",
    "            \n",
    "            for i in range(self.nVertices):\n",
    "                if self.adjMatrix[front][i] > 0 and visited[i] is False:\n",
    "                    queue.append(i)\n",
    "                    visited[i] = True\n",
    "                    parent[i] = front  \n",
    "                    \n",
    "        return None\n",
    " \n",
    "\n",
    "v, e = [int (i) for i in input().split()[:2]]\n",
    "g = Graph(v)\n",
    "\n",
    "for i in range(e):\n",
    "    a, b = [int(x) for x in input().split()[:2]]\n",
    "    g.addEdge(a, b)    \n",
    "v1, v2 = [int (r) for r in input().split()[:2]]\n",
    "\n",
    "parent = g.getPath(v1, v2)\n",
    "\n",
    "list = [v2]\n",
    "prev = parent[v2]\n",
    "list.append(prev)\n",
    "while (1):\n",
    "    prev = parent[prev]\n",
    "    list.append(prev)\n",
    "    if prev == v1:\n",
    "        break\n",
    "    \n",
    "for j in list:\n",
    "    print(j, end = \" \")"
   ]
  }
 ],
 "metadata": {
  "kernelspec": {
   "display_name": "Python 3",
   "language": "python",
   "name": "python3"
  },
  "language_info": {
   "codemirror_mode": {
    "name": "ipython",
    "version": 3
   },
   "file_extension": ".py",
   "mimetype": "text/x-python",
   "name": "python",
   "nbconvert_exporter": "python",
   "pygments_lexer": "ipython3",
   "version": "3.6.9"
  }
 },
 "nbformat": 4,
 "nbformat_minor": 4
}
