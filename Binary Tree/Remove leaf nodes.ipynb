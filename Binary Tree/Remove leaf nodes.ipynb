{
 "cells": [
  {
   "cell_type": "code",
   "execution_count": 7,
   "metadata": {},
   "outputs": [
    {
     "name": "stdout",
     "output_type": "stream",
     "text": [
      "1\n",
      "2\n",
      "-1\n",
      "-1\n",
      "3\n",
      "-1\n",
      "-1\n",
      "1\n"
     ]
    }
   ],
   "source": [
    "class BinaryTreeNode:\n",
    "    def __init__(self,data):\n",
    "        self.data = data\n",
    "        self.left = None\n",
    "        self.right = None\n",
    "        \n",
    "def TakeInput():\n",
    "    rootdata = int(input())\n",
    "    if rootdata == -1:\n",
    "        return None\n",
    "    root = BinaryTreeNode(rootdata)\n",
    "    leftTree = TakeInput()\n",
    "    rightTree = TakeInput()\n",
    "    root.left = leftTree\n",
    "    root.right = rightTree\n",
    "    return root\n",
    "\n",
    "def printTree(root):\n",
    "    if root == None:\n",
    "        return \n",
    "    print(root.data)\n",
    "    printTree(root.left)\n",
    "    printTree(root.right)\n",
    "    \n",
    "def removeleafnodes(root):\n",
    "    if root == None:\n",
    "        return None\n",
    "    if root.left == None and root.right == None:\n",
    "        return None\n",
    "    root.left = removeleafnodes(root.left)\n",
    "    root.right = removeleafnodes(root.right)\n",
    "    return root\n",
    "    \n",
    "root = TakeInput()\n",
    "root = removeleafnodes(root)\n",
    "printTree(root)"
   ]
  }
 ],
 "metadata": {
  "kernelspec": {
   "display_name": "Python 3",
   "language": "python",
   "name": "python3"
  },
  "language_info": {
   "codemirror_mode": {
    "name": "ipython",
    "version": 3
   },
   "file_extension": ".py",
   "mimetype": "text/x-python",
   "name": "python",
   "nbconvert_exporter": "python",
   "pygments_lexer": "ipython3",
   "version": "3.7.3"
  }
 },
 "nbformat": 4,
 "nbformat_minor": 4
}
