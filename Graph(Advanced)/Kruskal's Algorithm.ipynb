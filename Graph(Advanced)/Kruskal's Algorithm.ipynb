{
 "cells": [
  {
   "cell_type": "code",
   "execution_count": 4,
   "metadata": {},
   "outputs": [
    {
     "name": "stdout",
     "output_type": "stream",
     "text": [
      "4 4 \n",
      "1 2 6 \n",
      "2 3 2 \n",
      "1 3 2 \n",
      "1 0 2\n",
      "2 3 2\n",
      "1 3 2\n",
      "0 1 2\n"
     ]
    }
   ],
   "source": [
    "class Edge:\n",
    "    def __init__(self,src,dest,wt):\n",
    "        self.src = src\n",
    "        self.dest = dest\n",
    "        self.wt = wt\n",
    "    \n",
    "def getParent(v,parent):\n",
    "    if v == parent[v]:\n",
    "        return v\n",
    "    return getParent(parent[v],parent)\n",
    "    \n",
    "def Kruskal(edges,nVertices):\n",
    "    parent = [i for i in range(nVertices)]\n",
    "    edges = sorted(edges,key=lambda edge: edge.wt)\n",
    "    count = 0\n",
    "    \n",
    "    output = []\n",
    "    i=0\n",
    "    while count< (nVertices-1):\n",
    "        currentEdge = edges[i]\n",
    "        srcParent = getParent(currentEdge.src,parent)\n",
    "        destParent = getParent(currentEdge.dest,parent)\n",
    "        \n",
    "        if srcParent!=destParent:\n",
    "            output.append(currentEdge)\n",
    "            count+=1\n",
    "            parent[srcParent] = destParent\n",
    "        i+=1\n",
    "        \n",
    "    return output\n",
    "    \n",
    "\n",
    "li = [int(ele) for ele in input().split()]\n",
    "n = li[0]\n",
    "e = li[1]\n",
    "edges = []\n",
    "\n",
    "for i in range(e):\n",
    "    curr_input = [int(ele) for ele in input().split()]\n",
    "    src = curr_input[0]\n",
    "    dest = curr_input[1]\n",
    "    wt = curr_input[2]\n",
    "    edge = Edge(src,dest,wt)\n",
    "    edges.append(edge)\n",
    "output = Kruskal(edges,n)\n",
    "\n",
    "for edge in output:\n",
    "    if edge.src < edge.dest:\n",
    "        print(str(edge.src) + \" \" + str(edge.dest) + \" \" + str(edge.wt))\n",
    "    else:\n",
    "        print(str(edge.dest) + \" \" + str(edge.src) + \" \" + str(edge.wt))\n",
    "        \n",
    "    "
   ]
  }
 ],
 "metadata": {
  "kernelspec": {
   "display_name": "Python 3",
   "language": "python",
   "name": "python3"
  },
  "language_info": {
   "codemirror_mode": {
    "name": "ipython",
    "version": 3
   },
   "file_extension": ".py",
   "mimetype": "text/x-python",
   "name": "python",
   "nbconvert_exporter": "python",
   "pygments_lexer": "ipython3",
   "version": "3.6.9"
  }
 },
 "nbformat": 4,
 "nbformat_minor": 4
}
