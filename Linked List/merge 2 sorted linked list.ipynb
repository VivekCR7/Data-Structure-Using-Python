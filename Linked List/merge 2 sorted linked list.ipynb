{
 "cells": [
  {
   "cell_type": "code",
   "execution_count": 3,
   "metadata": {},
   "outputs": [
    {
     "name": "stdout",
     "output_type": "stream",
     "text": [
      "1 5 7 20 22\n",
      "2 3 6\n",
      "1 2 3 5 6 7 20 22 \n"
     ]
    }
   ],
   "source": [
    "class Node:\n",
    "    def __init__(self,data):\n",
    "        self.data = data\n",
    "        self.next = None\n",
    "        \n",
    "def takeinput():\n",
    "    inputlist = [int(ele) for ele in input().split()]\n",
    "    head = None\n",
    "    tail = None\n",
    "    for curr_data in inputlist:\n",
    "        if curr_data == -1:\n",
    "            break\n",
    "        newnode = Node(curr_data)\n",
    "        \n",
    "        if head is None:\n",
    "            head = newnode\n",
    "            tail = newnode\n",
    "        else:\n",
    "            tail.next = newnode\n",
    "            tail = newnode\n",
    "            \n",
    "    return head\n",
    "\n",
    "def printll(head):\n",
    "    while head is not None:\n",
    "        print(str(head.data) + \"->\",end=\"\")\n",
    "        head = head.next\n",
    "    print(\"None\")\n",
    "    return\n",
    "\n",
    "def merge_2_sorted_ll(head1,head2):\n",
    "    finalhead = Node(3)                   \n",
    "    finaltail = finalhead         \n",
    "    while(head1 is not None and head2 is not None):\n",
    "        if head1.data < head2.data:\n",
    "            finaltail.next = head1\n",
    "            finaltail = finaltail.next\n",
    "            head1 = head1.next\n",
    "            \n",
    "        else:\n",
    "            finaltail.next = head2\n",
    "            finaltail = finaltail.next\n",
    "            head2 = head2.next\n",
    "     \n",
    "    while head1 is not None:\n",
    "        finaltail.next = head1\n",
    "        finaltail = finaltail.next\n",
    "        head1 = head1.next\n",
    "    \n",
    "    while head2 is not None:\n",
    "        finaltail.next = head2\n",
    "        finaltail = finaltail.next    \n",
    "        head2 = head2.next\n",
    "        \n",
    "    return finalhead.next\n",
    "\n",
    "def printll(head):\n",
    "    while head:\n",
    "        print(head.data, end=' ')\n",
    "        head = head.next\n",
    "    print()\n",
    "    \n",
    "    \n",
    "head1 = takeinput()\n",
    "head2 = takeinput()\n",
    "head = merge_2_sorted_ll(head1,head2)\n",
    "printll(head)"
   ]
  }
 ],
 "metadata": {
  "kernelspec": {
   "display_name": "Python 3",
   "language": "python",
   "name": "python3"
  }
 },
 "nbformat": 4,
 "nbformat_minor": 4
}
