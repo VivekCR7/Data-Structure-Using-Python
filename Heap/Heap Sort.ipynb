{
 "cells": [
  {
   "cell_type": "code",
   "execution_count": 5,
   "metadata": {},
   "outputs": [
    {
     "name": "stdout",
     "output_type": "stream",
     "text": [
      "2 4 5 6 1 8 9 0\n",
      "0 1 2 4 5 6 8 9 \n",
      "9 8 6 5 4 2 1 0 "
     ]
    }
   ],
   "source": [
    "def heapify(arr,i,n):    #move down\n",
    "    parentIndex = i\n",
    "    leftchildIndex = 2*parentIndex + 1\n",
    "    rightchildIndex = 2*parentIndex + 2\n",
    "    \n",
    "    #n = len(arr)\n",
    "    while leftchildIndex < n:\n",
    "        minIndex = parentIndex\n",
    "        if arr[minIndex] > arr[leftchildIndex]:\n",
    "            minIndex = leftchildIndex\n",
    "        if rightchildIndex < n and arr[minIndex] > arr[rightchildIndex]:\n",
    "            minIndex = rightchildIndex\n",
    "        \n",
    "        if minIndex == parentIndex:\n",
    "            return\n",
    "        \n",
    "        arr[minIndex],arr[parentIndex] = arr[parentIndex],arr[minIndex]\n",
    "        parentIndex = minIndex\n",
    "        leftchildIndex = 2*parentIndex + 1\n",
    "        rightchildIndex = 2*parentIndex + 2\n",
    "        \n",
    "    return\n",
    "\n",
    "def heapsort(arr):\n",
    "    n = len(arr)\n",
    "    for i in range(n//2-1,-1,-1):   #to build the heap\n",
    "        heapify(arr,i,n)\n",
    "        \n",
    "    for i in range(n-1,0,-1):            #swapping the first element with last element and so on\n",
    "        arr[0],arr[i] = arr[i],arr[0]\n",
    "        heapify(arr,0,i)\n",
    "    \n",
    "    return\n",
    "        \n",
    "arr = [int(ele) for ele in input().split()]\n",
    "heapsort(arr)\n",
    "#for ascending order\n",
    "for i in arr[::-1]:\n",
    "    print(i,end = \" \")\n",
    "\n",
    "print()\n",
    "#for descending order\n",
    "for i in arr:\n",
    "    print(i, end=\" \")"
   ]
  }
 ],
 "metadata": {
  "kernelspec": {
   "display_name": "Python 3",
   "language": "python",
   "name": "python3"
  },
  "language_info": {
   "codemirror_mode": {
    "name": "ipython",
    "version": 3
   },
   "file_extension": ".py",
   "mimetype": "text/x-python",
   "name": "python",
   "nbconvert_exporter": "python",
   "pygments_lexer": "ipython3",
   "version": "3.6.9"
  }
 },
 "nbformat": 4,
 "nbformat_minor": 4
}
