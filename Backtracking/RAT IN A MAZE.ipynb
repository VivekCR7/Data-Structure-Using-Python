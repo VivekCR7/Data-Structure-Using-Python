{
 "cells": [
  {
   "cell_type": "code",
   "execution_count": 2,
   "metadata": {},
   "outputs": [
    {
     "name": "stdout",
     "output_type": "stream",
     "text": [
      "4\n",
      "1 1 1 1\n",
      "1 0 1 1\n",
      "1 1 0 1\n",
      "1 1 1 1\n",
      "[[1, 0, 0, 0], [1, 0, 0, 0], [1, 0, 0, 0], [1, 1, 1, 1]]\n",
      "[[1, 0, 0, 0], [1, 0, 0, 0], [1, 1, 0, 0], [0, 1, 1, 1]]\n",
      "[[1, 1, 1, 0], [0, 0, 1, 1], [0, 0, 0, 1], [0, 0, 0, 1]]\n",
      "[[1, 1, 1, 1], [0, 0, 0, 1], [0, 0, 0, 1], [0, 0, 0, 1]]\n"
     ]
    }
   ],
   "source": [
    "def printPathHelper(x,y,maze,n,solution_matrix):\n",
    "    \n",
    "    if x == n-1 and y == n-1:\n",
    "        solution_matrix[x][y] = 1\n",
    "        print(solution_matrix)\n",
    "#         solution_matrix[x][y] = 0\n",
    "        return\n",
    "    \n",
    "    if x<0 or y<0 or x>=n or y>=n or maze[x][y] == 0 or solution_matrix[x][y] == 1:\n",
    "        return\n",
    "    \n",
    "    solution_matrix[x][y] = 1\n",
    "    \n",
    "    printPathHelper(x+1,y,maze,n,solution_matrix)\n",
    "    printPathHelper(x,y+1,maze,n,solution_matrix)\n",
    "    printPathHelper(x-1,y,maze,n,solution_matrix)\n",
    "    printPathHelper(x,y-1,maze,n,solution_matrix)\n",
    "    \n",
    "    solution_matrix[x][y] = 0\n",
    "    \n",
    "    return\n",
    "\n",
    "\n",
    "\n",
    "def printPath(maze):\n",
    "    n = len(maze)\n",
    "    \n",
    "    solution_matrix = [[0 for j in range(n)] for i in range(n)]\n",
    "    printPathHelper(0,0,maze,n,solution_matrix)\n",
    "\n",
    "\n",
    "n = int(input())\n",
    "maze=[]\n",
    "for i in range(n):\n",
    "    row = [int(ele) for ele in input().split()]\n",
    "    maze.append(row)\n",
    "\n",
    "printPath(maze)"
   ]
  }
 ],
 "metadata": {
  "kernelspec": {
   "display_name": "Python 3",
   "language": "python",
   "name": "python3"
  },
  "language_info": {
   "codemirror_mode": {
    "name": "ipython",
    "version": 3
   },
   "file_extension": ".py",
   "mimetype": "text/x-python",
   "name": "python",
   "nbconvert_exporter": "python",
   "pygments_lexer": "ipython3",
   "version": "3.6.9"
  }
 },
 "nbformat": 4,
 "nbformat_minor": 4
}
