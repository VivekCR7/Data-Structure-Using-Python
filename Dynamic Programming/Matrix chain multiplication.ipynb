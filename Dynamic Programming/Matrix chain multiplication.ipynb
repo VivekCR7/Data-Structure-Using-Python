{
 "cells": [
  {
   "cell_type": "code",
   "execution_count": 3,
   "metadata": {},
   "outputs": [
    {
     "name": "stdout",
     "output_type": "stream",
     "text": [
      "220\n"
     ]
    }
   ],
   "source": [
    "import sys\n",
    "def mcm(p,i,j,dp):\n",
    "    \n",
    "    if i == j:\n",
    "        return 0\n",
    "    \n",
    "    min_value = sys.maxsize\n",
    "    for k in range(i,j):\n",
    "        \n",
    "        if dp[i][k] == -1:\n",
    "            ans1 = mcm(p,i,k,dp)\n",
    "            dp[i][k] = ans1\n",
    "        else:\n",
    "            ans1 = dp[i][k]\n",
    "            \n",
    "        if dp[k+1][j] == -1:\n",
    "            ans2 = mcm(p,k+1,j,dp)\n",
    "            dp[i][k] = ans2\n",
    "        else:\n",
    "            ans2 = dp[k+1][j]\n",
    "        \n",
    "        mcost = p[i-1]*p[k]*p[j]\n",
    "        curr_value = ans1+ ans2 +mcost\n",
    "        min_value = min(min_value,curr_value)\n",
    "        \n",
    "    return min_value\n",
    "\n",
    "\n",
    "p = [2,3,4,5,6]\n",
    "n = len(p)-1\n",
    "\n",
    "dp = [[-1 for j in range(n+1)] for i in range(n+1)]\n",
    "ans=mcm(p,1,n,dp)\n",
    "print(ans)"
   ]
  }
 ],
 "metadata": {
  "kernelspec": {
   "display_name": "Python 3",
   "language": "python",
   "name": "python3"
  },
  "language_info": {
   "codemirror_mode": {
    "name": "ipython",
    "version": 3
   },
   "file_extension": ".py",
   "mimetype": "text/x-python",
   "name": "python",
   "nbconvert_exporter": "python",
   "pygments_lexer": "ipython3",
   "version": "3.6.9"
  }
 },
 "nbformat": 4,
 "nbformat_minor": 4
}
