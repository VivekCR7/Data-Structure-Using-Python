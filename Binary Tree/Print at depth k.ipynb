{
 "cells": [
  {
   "cell_type": "code",
   "execution_count": 2,
   "metadata": {},
   "outputs": [
    {
     "name": "stdout",
     "output_type": "stream",
     "text": [
      "1\n",
      "2\n",
      "3\n",
      "-1\n",
      "-1\n",
      "4\n",
      "-1\n",
      "-1\n",
      "5\n",
      "6\n",
      "-1\n",
      "-1\n",
      "-1\n",
      "2\n",
      "3\n",
      "4\n",
      "6\n",
      "None\n"
     ]
    }
   ],
   "source": [
    "class BinaryTreeNode:\n",
    "    def __init__(self,data):\n",
    "        self.data = data\n",
    "        self.left = None\n",
    "        self.right = None\n",
    "        \n",
    "def printTree(root):\n",
    "    if root == None:\n",
    "        return\n",
    "    print(root.data, end = \":\")\n",
    "    if root.left != None:\n",
    "        print(\"L\",root.left.data, end = \",\")\n",
    "    if root.right != None:\n",
    "        print(\"R\",root.right.data, end = \"\")\n",
    "    print()\n",
    "    printTree(root.left)\n",
    "    printTree(root.right)\n",
    "    \n",
    "def TakeInput():\n",
    "    rootdata = int(input())\n",
    "    if rootdata == -1:\n",
    "        return None\n",
    "    \n",
    "    root = BinaryTreeNode(rootdata)\n",
    "    leftTree = TakeInput()\n",
    "    rightTree = TakeInput()\n",
    "    root.left = leftTree\n",
    "    root.right = rightTree\n",
    "    return root\n",
    "\n",
    "def printatdepthk_version1(root,k):\n",
    "    if root == None:\n",
    "        return \n",
    "    if k == 0:\n",
    "        print(root.data)\n",
    "        return\n",
    "    printatdepthk_version1(root.left,k-1)\n",
    "    printatdepthk_version1(root.right,k-1)\n",
    "    \n",
    "def printatdepthk_version2(root,k,d=0):\n",
    "    if root == None:\n",
    "        return \n",
    "    if k == d:\n",
    "        print(root.data)\n",
    "        return\n",
    "    printatdepthk_version2(root.left,k,d+1)\n",
    "    printatdepthk_version2(root.right,k,d+1)\n",
    "    \n",
    "root = TakeInput()\n",
    "k = int(input())\n",
    "print(printatdepthk_version1(root,k))\n",
    "print(printatdepthk_version2(root,k))"
   ]
  }
 ],
 "metadata": {
  "kernelspec": {
   "display_name": "Python 3",
   "language": "python",
   "name": "python3"
  },
  "language_info": {
   "codemirror_mode": {
    "name": "ipython",
    "version": 3
   },
   "file_extension": ".py",
   "mimetype": "text/x-python",
   "name": "python",
   "nbconvert_exporter": "python",
   "pygments_lexer": "ipython3",
   "version": "3.7.3"
  }
 },
 "nbformat": 4,
 "nbformat_minor": 4
}
