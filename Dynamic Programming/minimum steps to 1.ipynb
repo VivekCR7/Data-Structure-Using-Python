{
 "cells": [
  {
   "cell_type": "code",
   "execution_count": 3,
   "metadata": {},
   "outputs": [
    {
     "name": "stdout",
     "output_type": "stream",
     "text": [
      "7\n",
      "3\n",
      "3\n"
     ]
    }
   ],
   "source": [
    "def minStepsTo1DP_recursive(n,dp):\n",
    "    if n == 1:\n",
    "        return 0\n",
    "\n",
    "    if dp[n-1] == -1:\n",
    "        ans1 = minStepsTo1DP_recursive(n-1, dp)\n",
    "        dp[n-1] = ans1\n",
    "    else:\n",
    "        ans1 = dp[n-1]\n",
    "    \n",
    "    ans2 = 1000000\n",
    "    if n%2 == 0:\n",
    "        if dp[n//2] == -1:\n",
    "            ans2 = minStepsTo1DP_recursive(n//2, dp)\n",
    "            dp[n//2] = ans2\n",
    "        else:\n",
    "            ans2 = dp[n//2]\n",
    "    \n",
    "    ans3 = 1000000\n",
    "    if n%3 == 0:\n",
    "        if dp[n//3] == -1:\n",
    "            ans2 = minStepsTo1DP_recursive(n//3, dp)\n",
    "            dp[n//3] = ans3\n",
    "        else:\n",
    "            ans3 = dp[n//3]\n",
    "    \n",
    "    ans = 1 + min(ans1, ans2, ans3)\n",
    "    dp[n] = ans\n",
    "    return ans \n",
    "    \n",
    "\n",
    "def minStepsTo1DP_iterative(n):\n",
    "    ''' Return Minimum no of steps required to reach 1 using using Dynamic Prog'''\n",
    "    dp = [0 for i in range(n+1)]\n",
    "\n",
    "    for i in range(n+1):\n",
    "        dp[i] = n-i\n",
    "        \n",
    "    for i in range(n,0,-1):\n",
    "        \n",
    "        if not(i%2) :\n",
    "            dp[i//2] = min(dp[i]+1, dp[i//2])\n",
    "        \n",
    "        if not(i%3):\n",
    "            dp[i//3] = min(dp[i]+1, dp[i//3])\n",
    "        \n",
    "    return dp[1]\n",
    "        \n",
    "    \n",
    "\n",
    "# Main\n",
    "n=int(input())\n",
    "print(minStepsTo1DP_iterative(n))\n",
    "dp = [-1 for i in range(n+1)]\n",
    "print(minStepsTo1DP_recursive(n,dp))\n"
   ]
  }
 ],
 "metadata": {
  "kernelspec": {
   "display_name": "Python 3",
   "language": "python",
   "name": "python3"
  },
  "language_info": {
   "codemirror_mode": {
    "name": "ipython",
    "version": 3
   },
   "file_extension": ".py",
   "mimetype": "text/x-python",
   "name": "python",
   "nbconvert_exporter": "python",
   "pygments_lexer": "ipython3",
   "version": "3.6.9"
  }
 },
 "nbformat": 4,
 "nbformat_minor": 4
}
