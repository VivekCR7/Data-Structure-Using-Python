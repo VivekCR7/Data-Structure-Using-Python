{
 "cells": [
  {
   "cell_type": "code",
   "execution_count": 3,
   "metadata": {},
   "outputs": [
    {
     "name": "stdout",
     "output_type": "stream",
     "text": [
      "1\n",
      "2\n",
      "3\n",
      "4\n",
      "-1\n"
     ]
    }
   ],
   "source": [
    "class Node:\n",
    "    def __init__(self,data):\n",
    "        self.data = data\n",
    "        self.next = None\n",
    "\n",
    "class queue_ll():\n",
    "    def __init__(self):\n",
    "        self.__head = None\n",
    "        self.__count = 0\n",
    "        \n",
    "    def enqueue(self, element):\n",
    "        newNode = Node(element)\n",
    "        if self.__head is None:\n",
    "            self.__head = newNode            \n",
    "        else:\n",
    "            self.__tail.next = newNode\n",
    "            \n",
    "        self.__tail = newNode\n",
    "        self.__count += 1\n",
    "            \n",
    "    \n",
    "    def dequeue(self):\n",
    "        if self.__count == 0:\n",
    "            return -1\n",
    "        data = self.__head.data\n",
    "        self.__head = self.__head.next\n",
    "        self.__count -= 1\n",
    "        return data\n",
    "\n",
    "    def front(self):\n",
    "        if self.__count == 0:\n",
    "            return -1\n",
    "        \n",
    "        data = self.__head.data\n",
    "        \n",
    "        return data\n",
    "    \n",
    "    def size(self):\n",
    "        return self.__count\n",
    "    def isEmpty(self):\n",
    "        return self.size() == 0\n",
    "    \n",
    "q = queue_ll()\n",
    "q.enqueue(1)\n",
    "q.enqueue(2)\n",
    "q.enqueue(3)\n",
    "q.enqueue(4)\n",
    "while(q.isEmpty() == False):\n",
    "    print(q.front())\n",
    "    q.dequeue()\n",
    "print(q.dequeue())\n",
    "    \n",
    "        \n",
    "        \n",
    "        \n",
    "        \n",
    "        "
   ]
  }
 ],
 "metadata": {
  "kernelspec": {
   "display_name": "Python 3",
   "language": "python",
   "name": "python3"
  },
  "language_info": {
   "codemirror_mode": {
    "name": "ipython",
    "version": 3
   },
   "file_extension": ".py",
   "mimetype": "text/x-python",
   "name": "python",
   "nbconvert_exporter": "python",
   "pygments_lexer": "ipython3",
   "version": "3.7.3"
  }
 },
 "nbformat": 4,
 "nbformat_minor": 4
}
