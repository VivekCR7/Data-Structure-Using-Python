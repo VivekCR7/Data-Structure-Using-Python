{
 "cells": [
  {
   "cell_type": "code",
   "execution_count": 2,
   "metadata": {},
   "outputs": [
    {
     "name": "stdout",
     "output_type": "stream",
     "text": [
      "abc\n",
      "abc\n",
      "acb\n",
      "bac\n",
      "bca\n",
      "cab\n",
      "cba\n"
     ]
    }
   ],
   "source": [
    "def permutations(str,output,ans):\n",
    "    length=len(str)\n",
    "    if length==0:\n",
    "        ans.append(output)\n",
    "        return\n",
    "    for i in range(0,length):\n",
    "        permutations(str[0:i]+str[i+1:],output+str[i],ans)\n",
    "    return ans\n",
    "\n",
    "        \n",
    "\n",
    "\n",
    "    \n",
    "str=input()\n",
    "ans = permutations(str,\"\",[])\n",
    "for ele in ans:\n",
    "    print(ele)"
   ]
  }
 ],
 "metadata": {
  "kernelspec": {
   "display_name": "Python 3",
   "language": "python",
   "name": "python3"
  },
  "language_info": {
   "codemirror_mode": {
    "name": "ipython",
    "version": 3
   },
   "file_extension": ".py",
   "mimetype": "text/x-python",
   "name": "python",
   "nbconvert_exporter": "python",
   "pygments_lexer": "ipython3",
   "version": "3.6.9"
  }
 },
 "nbformat": 4,
 "nbformat_minor": 4
}
