{
 "cells": [
  {
   "cell_type": "code",
   "execution_count": 1,
   "metadata": {},
   "outputs": [
    {
     "name": "stdout",
     "output_type": "stream",
     "text": [
      "5\n",
      "6\n",
      "10\n",
      "2\n",
      "3\n",
      "-1\n",
      "-1\n",
      "-1\n",
      "-1\n",
      "-1\n",
      "9\n",
      "-1\n",
      "-1\n",
      "6\n",
      "9\n",
      "None\n"
     ]
    }
   ],
   "source": [
    "class BinaryTreeNode:\n",
    "    def __init__(self,data):\n",
    "        self.data = data\n",
    "        self.left = None\n",
    "        self.right = None\n",
    "        \n",
    "def printTree(root):\n",
    "    if root == None:\n",
    "        return\n",
    "    print(root.data, end = \":\")\n",
    "    if root.left != None:\n",
    "        print(\"L\",root.left.data, end = \",\")\n",
    "    if root.right != None:\n",
    "        print(\"R\",root.right.data, end = \"\")\n",
    "    print()\n",
    "    printTree(root.left)\n",
    "    printTree(root.right)\n",
    "    \n",
    "def TakeInput():\n",
    "    rootdata = int(input())\n",
    "    if rootdata == -1:\n",
    "        return None\n",
    "    \n",
    "    root = BinaryTreeNode(rootdata)\n",
    "    leftTree = TakeInput()\n",
    "    rightTree = TakeInput()\n",
    "    root.left = leftTree\n",
    "    root.right = rightTree\n",
    "    return root\n",
    "\n",
    "\n",
    "def nodesWithoutSibling(root):\n",
    "    if root == None:\n",
    "        return \n",
    "    \n",
    "    elif root.left is not None and root.right is not None:\n",
    "        nodesWithoutSibling(root.left)\n",
    "        nodesWithoutSibling(root.right)\n",
    "    \n",
    "    elif root.right is not None:\n",
    "        print(root.right.data)\n",
    "        nodesWithoutSibling(root.right)\n",
    "        \n",
    "    elif root.left is not None:\n",
    "        print(root.left.data)\n",
    "        nodesWithoutSibling(root.left)     \n",
    "\n",
    "\n",
    "    \n",
    "root = TakeInput()\n",
    "print(nodesWithoutSibling(root))"
   ]
  }
 ],
 "metadata": {
  "kernelspec": {
   "display_name": "Python 3",
   "language": "python",
   "name": "python3"
  },
  "language_info": {
   "codemirror_mode": {
    "name": "ipython",
    "version": 3
   },
   "file_extension": ".py",
   "mimetype": "text/x-python",
   "name": "python",
   "nbconvert_exporter": "python",
   "pygments_lexer": "ipython3",
   "version": "3.7.3"
  }
 },
 "nbformat": 4,
 "nbformat_minor": 4
}
