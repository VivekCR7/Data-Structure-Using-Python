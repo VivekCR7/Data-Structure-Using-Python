{
 "cells": [
  {
   "cell_type": "code",
   "execution_count": 2,
   "metadata": {},
   "outputs": [
    {
     "name": "stdout",
     "output_type": "stream",
     "text": [
      "ababababcccccddddddeefghi\n",
      "abcdefghi\n",
      "abcdefghi\n"
     ]
    }
   ],
   "source": [
    "def uniqueChars(string):\n",
    "    new_string = \"\"\n",
    "    for i in range(len(string)):\n",
    "        if string[i] not in new_string:\n",
    "            new_string += string[i]\n",
    "            \n",
    "    return new_string\n",
    "    \n",
    "#using dictionary\n",
    "def uniqueChars_Dictionary(string):\n",
    "    d = {}\n",
    "    e = ''\n",
    "    l = len(string)\n",
    "    for a in range(l):\n",
    "        w = string[a]\n",
    "        if w not in d:\n",
    "            d[w] = 1\n",
    "            e = e+w\n",
    "    return e\n",
    "\n",
    "\n",
    "\n",
    "# Main\n",
    "string = input()\n",
    "print(uniqueChars(string))\n",
    "print(uniqueChars_Dictionary(string))\n"
   ]
  }
 ],
 "metadata": {
  "kernelspec": {
   "display_name": "Python 3",
   "language": "python",
   "name": "python3"
  },
  "language_info": {
   "codemirror_mode": {
    "name": "ipython",
    "version": 3
   },
   "file_extension": ".py",
   "mimetype": "text/x-python",
   "name": "python",
   "nbconvert_exporter": "python",
   "pygments_lexer": "ipython3",
   "version": "3.7.3"
  }
 },
 "nbformat": 4,
 "nbformat_minor": 4
}
