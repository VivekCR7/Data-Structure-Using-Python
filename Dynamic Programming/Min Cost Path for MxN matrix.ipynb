{
 "cells": [
  {
   "cell_type": "code",
   "execution_count": 1,
   "metadata": {},
   "outputs": [
    {
     "name": "stdout",
     "output_type": "stream",
     "text": [
      "4 3\n",
      "1 5 11\n",
      "8 13 12\n",
      "2 3 7\n",
      "15 16 18\n",
      "30\n"
     ]
    }
   ],
   "source": [
    "#recursion\n",
    "import sys\n",
    "def minCost(cost,i,j,n,m,dp):\n",
    "    \n",
    "      \n",
    "    #special case\n",
    "    \n",
    "    if i==n-1 and j==m-1:\n",
    "        return cost[i][j]\n",
    "    \n",
    "    #base case\n",
    "    if i >= n or j >= m:\n",
    "        return sys.maxsize\n",
    "      \n",
    "    if dp[i][j+1] == sys.maxsize:\n",
    "        ans1 = minCost(cost,i,j+1,n,m,dp)\n",
    "        dp[i][j+1] = ans1\n",
    "    else:\n",
    "        ans1 = dp[i][j+1]\n",
    "        \n",
    "    if dp[i+1][j] == sys.maxsize:\n",
    "        ans2 = minCost(cost,i+1,j,n,m,dp)\n",
    "        dp[i+1][j] = ans2\n",
    "    else:\n",
    "        ans2 = dp[i+1][j]\n",
    "        \n",
    "    if dp[i+1][j+1] == sys.maxsize:\n",
    "        ans3 = minCost(cost,i+1,j+1,n,m,dp)\n",
    "        dp[i+1][j+1] = ans3\n",
    "    else:\n",
    "        ans3 = dp[i+1][j+1]\n",
    "    \n",
    "    ans = cost[i][j] + min(ans1,ans2,ans3)\n",
    "    return ans\n",
    "    \n",
    "\n",
    "#iterative\n",
    "def minCost_iterative(cost,n,m):\n",
    "    \n",
    "    dp = [[sys.maxsize for i in range(m+1)] for j in range(n+1)]\n",
    "    \n",
    "    for i in range(n-1,-1,-1):\n",
    "        for j in range(m-1,-1,-1):\n",
    "            if i == n-1 and j == m-1:\n",
    "                dp[i][j] = cost[i][j]\n",
    "            else:\n",
    "                ans1 = dp[i+1][j]\n",
    "                ans2 = dp[i][j+1]\n",
    "                ans3 = dp[i+1][j+1]\n",
    "                dp[i][j] = cost[i][j] + min(ans1,ans2,ans3)\n",
    "    return dp[0][0]\n",
    "    \n",
    "    \n",
    "n, m = map(int,input().split())\n",
    "dp = [[ sys.maxsize for j in range(m+1)] for i in range(n+1)]\n",
    "cost = [[int(x) for x in input().split()] for y in range(n)]\n",
    "ans = minCost(cost,0,0,n,m,dp)\n",
    "print(ans)"
   ]
  }
 ],
 "metadata": {
  "kernelspec": {
   "display_name": "Python 3",
   "language": "python",
   "name": "python3"
  },
  "language_info": {
   "codemirror_mode": {
    "name": "ipython",
    "version": 3
   },
   "file_extension": ".py",
   "mimetype": "text/x-python",
   "name": "python",
   "nbconvert_exporter": "python",
   "pygments_lexer": "ipython3",
   "version": "3.6.9"
  }
 },
 "nbformat": 4,
 "nbformat_minor": 4
}
