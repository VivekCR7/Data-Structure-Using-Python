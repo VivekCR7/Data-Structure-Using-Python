{
 "cells": [
  {
   "cell_type": "code",
   "execution_count": 1,
   "metadata": {},
   "outputs": [
    {
     "name": "stdout",
     "output_type": "stream",
     "text": [
      "4 4\n",
      "0 1\n",
      "0 3\n",
      "1 2\n",
      "2 3\n",
      "1 3\n",
      "3 0 1 "
     ]
    }
   ],
   "source": [
    "## Read input as specified in the question.\n",
    "## Print output as specified in the question.\n",
    "import queue\n",
    "\n",
    "class Graph:\n",
    "    def __init__(self, nVertices):\n",
    "        self.nVertices = nVertices\n",
    "        self.adjMatrix = [[0 for i in range(nVertices)] for j in range(nVertices)]\n",
    "           \n",
    "    def addEdge(self, v1, v2):\n",
    "        self.adjMatrix[v1][v2] = 1\n",
    "        self.adjMatrix[v2][v1] = 1\n",
    "    \n",
    "    def getpath(self,v1,v2):\n",
    "        if self.adjMatrix[v1][v2]==1:\n",
    "            return [v2,v1]\n",
    "        q=queue.Queue()\n",
    "        q.put(v1)\n",
    "        visited=[False for i in range(self.nVertices)]\n",
    "        visited[v1]=True\n",
    "        pd={}\n",
    "        while q.empty() is False:\n",
    "            front=q.get()\n",
    "            for i in range(self.nVertices):\n",
    "                if self.adjMatrix[front][i]==1 and visited[i] is False:\n",
    "                    pd[i]=front\n",
    "                    if i==v2:\n",
    "                        l=[i]\n",
    "                        while i!=v1:\n",
    "                            l.append(pd[i])\n",
    "                            i=pd[i]\n",
    "                        return l\n",
    "                    q.put(i)\n",
    "                    visited[i]=True\n",
    "                            \n",
    "\n",
    "v, e = [int (i) for i in input().split()[:2]]\n",
    "g = Graph(v)\n",
    "\n",
    "for i in range(e):\n",
    "    a, b = [int(x) for x in input().split()]\n",
    "    g.addEdge(a, b)    \n",
    "v1, v2 = [int (r) for r in input().split()]\n",
    "\n",
    "ans = g.getpath(v1, v2)\n",
    "if ans is not None:\n",
    "    for i in ans:\n",
    "        print(i,end=' ')"
   ]
  }
 ],
 "metadata": {
  "kernelspec": {
   "display_name": "Python 3",
   "language": "python",
   "name": "python3"
  },
  "language_info": {
   "codemirror_mode": {
    "name": "ipython",
    "version": 3
   },
   "file_extension": ".py",
   "mimetype": "text/x-python",
   "name": "python",
   "nbconvert_exporter": "python",
   "pygments_lexer": "ipython3",
   "version": "3.6.9"
  }
 },
 "nbformat": 4,
 "nbformat_minor": 4
}
