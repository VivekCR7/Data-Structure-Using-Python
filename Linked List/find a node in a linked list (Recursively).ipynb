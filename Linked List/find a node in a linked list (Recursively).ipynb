{
 "cells": [
  {
   "cell_type": "code",
   "execution_count": 7,
   "metadata": {},
   "outputs": [
    {
     "name": "stdout",
     "output_type": "stream",
     "text": [
      "3 4 5 6 7 8 1 2\n",
      "5\n"
     ]
    },
    {
     "data": {
      "text/plain": [
       "2"
      ]
     },
     "execution_count": 7,
     "metadata": {},
     "output_type": "execute_result"
    }
   ],
   "source": [
    "class Node:\n",
    "    def __init__(self,data):\n",
    "        self.data = data\n",
    "        self.next = None\n",
    "\n",
    "def takeinput():\n",
    "    inputlist = [int(ele) for ele in input().split()]\n",
    "    head = None\n",
    "    tail = None\n",
    "    for data in inputlist:\n",
    "        if data == -1:\n",
    "            break\n",
    "        newnode = Node(data)\n",
    "        if head is None:\n",
    "            head = newnode\n",
    "            tail = newnode\n",
    "        else:\n",
    "            tail.next = newnode\n",
    "            tail = newnode\n",
    "            \n",
    "    return head\n",
    "\n",
    "def printll(head):\n",
    "    while head is not None:\n",
    "        print(head.data,end = \"\")\n",
    "        head = head.next\n",
    "    print()\n",
    "    return\n",
    "\n",
    "def length(head):\n",
    "    c=0\n",
    "    while head is not None:\n",
    "        c+=1\n",
    "        head = head.next\n",
    "    return c\n",
    "\n",
    "def find_node(head, n):\n",
    "    \n",
    "    if head is None:\n",
    "        return -1\n",
    "    if head.data == n:\n",
    "        return 0\n",
    "    \n",
    "    value = find_node(head.next, n)    \n",
    "    \n",
    "    if value == -1:\n",
    "        return -1\n",
    "    else:\n",
    "        return 1+value \n",
    "\n",
    "head = takeinput()\n",
    "n = int(input())\n",
    "find_node(head,n)"
   ]
  }
 ],
 "metadata": {
  "kernelspec": {
   "display_name": "Python 3",
   "language": "python",
   "name": "python3"
  },
  "language_info": {
   "codemirror_mode": {
    "name": "ipython",
    "version": 3
   },
   "file_extension": ".py",
   "mimetype": "text/x-python",
   "name": "python",
   "nbconvert_exporter": "python",
   "pygments_lexer": "ipython3",
   "version": "3.7.3"
  }
 },
 "nbformat": 4,
 "nbformat_minor": 4
}
