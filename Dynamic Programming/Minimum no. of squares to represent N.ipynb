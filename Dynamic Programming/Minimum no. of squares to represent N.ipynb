{
 "cells": [
  {
   "cell_type": "code",
   "execution_count": 7,
   "metadata": {},
   "outputs": [
    {
     "name": "stdout",
     "output_type": "stream",
     "text": [
      "24\n",
      "3\n",
      "3\n"
     ]
    }
   ],
   "source": [
    "import math,sys\n",
    "def minSquares_recursively(n,dp):\n",
    "    \n",
    "    if n == 0:\n",
    "        return 0\n",
    "    \n",
    "    ans = sys.maxsize\n",
    "    root = int(math.sqrt(n))\n",
    "    \n",
    "    for i in range(1,root+1):\n",
    "        nextvalue = n-(i*i)\n",
    "        \n",
    "        if dp[nextvalue] == -1:\n",
    "            smallans = minSquares_recursively(nextvalue,dp)\n",
    "            dp[nextvalue] = smallans\n",
    "            curr_ans = 1+smallans\n",
    "        else:\n",
    "            curr_ans = 1+dp[nextvalue]\n",
    "            \n",
    "        ans = min(ans,curr_ans)\n",
    "        \n",
    "    return ans\n",
    "\n",
    "def minSquares_iteratively(n):\n",
    "    dp = [-1 for x in range(n+1)]\n",
    "    dp[0] = 0\n",
    "        \n",
    "    for i in range(1,n+1):\n",
    "        ans = sys.maxsize\n",
    "        root = int(math.sqrt(i))\n",
    "        for j in range(1, root+1):\n",
    "            currAns = 1 + dp[i - (j*j)]\n",
    "            ans = min(ans, currAns)            \n",
    "        dp[i] = ans\n",
    "        \n",
    "    return dp[n]\n",
    "\n",
    "n = int(input())\n",
    "dp = [-1 for i in range(n+1)]\n",
    "print(minSquares_recursively(n,dp))\n",
    "print(minSquares_iteratively(n))"
   ]
  }
 ],
 "metadata": {
  "kernelspec": {
   "display_name": "Python 3",
   "language": "python",
   "name": "python3"
  },
  "language_info": {
   "codemirror_mode": {
    "name": "ipython",
    "version": 3
   },
   "file_extension": ".py",
   "mimetype": "text/x-python",
   "name": "python",
   "nbconvert_exporter": "python",
   "pygments_lexer": "ipython3",
   "version": "3.6.9"
  }
 },
 "nbformat": 4,
 "nbformat_minor": 4
}
