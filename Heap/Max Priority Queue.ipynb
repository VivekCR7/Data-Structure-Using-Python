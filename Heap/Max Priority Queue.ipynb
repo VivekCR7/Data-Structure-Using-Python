{
 "cells": [
  {
   "cell_type": "code",
   "execution_count": 7,
   "metadata": {},
   "outputs": [
    {
     "name": "stdout",
     "output_type": "stream",
     "text": [
      "B\n",
      "A\n",
      "C\n",
      "D\n"
     ]
    }
   ],
   "source": [
    "class PriorityQueueNode:\n",
    "    def __init__(self,value,priority):\n",
    "        self.value = value\n",
    "        self.priority = priority\n",
    "        \n",
    "class Max_PriorityQueue:\n",
    "    def __init__(self):\n",
    "        self.pq = []\n",
    "        \n",
    "    def getSize(self):\n",
    "        return len(self.pq)\n",
    "    \n",
    "    def isEmpty(self):\n",
    "        return self.getSize() == 0\n",
    "    \n",
    "    def getMax(self):\n",
    "        if self.isEmpty():\n",
    "            return None\n",
    "        return self.pq[0].value\n",
    "    \n",
    "    def insert(self,value,priority):\n",
    "        newnode = PriorityQueueNode(value,priority)\n",
    "        self.pq.append(newnode) #CBT Property\n",
    "        self.__moveup()         #heap property\n",
    "        \n",
    "    def __moveup(self):\n",
    "        childIndex = self.getSize()-1\n",
    "        while childIndex > 0:\n",
    "            parentIndex = (childIndex -1)//2\n",
    "            if self.pq[parentIndex].priority < self.pq[childIndex].priority:\n",
    "                self.pq[parentIndex],self.pq[childIndex] = self.pq[childIndex],self.pq[parentIndex]\n",
    "                childIndex = parentIndex\n",
    "                \n",
    "            else:\n",
    "                break\n",
    "                \n",
    "    def removeMax(self):\n",
    "        if self.isEmpty():\n",
    "            return None\n",
    "        ans = self.pq[0].value\n",
    "        self.pq[0] = self.pq[self.getSize() - 1]\n",
    "        self.pq.pop()                   #CBT Property\n",
    "        self.__movedown()               #heap property\n",
    "        return ans\n",
    "    \n",
    "    def __movedown(self):\n",
    "        parentIndex = 0\n",
    "        leftchildIndex = 2*parentIndex +1\n",
    "        rightchildIndex = 2*parentIndex +2\n",
    "        \n",
    "        while leftchildIndex < self.getSize():\n",
    "            maxIndex = parentIndex\n",
    "            if self.pq[maxIndex].priority < self.pq[leftchildIndex].priority:\n",
    "                maxIndex = leftchildIndex\n",
    "                \n",
    "            if rightchildIndex < self.getSize() and self.pq[maxIndex].priority < self.pq[rightchildIndex].priority:\n",
    "                maxIndex = rightchildIndex\n",
    "                \n",
    "            if maxIndex == parentIndex:\n",
    "                break\n",
    "                \n",
    "            self.pq[parentIndex],self.pq[maxIndex] = self.pq[maxIndex],self.pq[parentIndex]\n",
    "            parentIndex = maxIndex\n",
    "            leftchildIndex = 2*parentIndex + 1\n",
    "            rightchildIndex = 2*parentIndex + 2\n",
    "            \n",
    "pq = Max_PriorityQueue()\n",
    "pq.insert('A',10)\n",
    "pq.insert('C',5)\n",
    "pq.insert('B',19)\n",
    "pq.insert('D',4)\n",
    "for i in range(4):\n",
    "    print(pq.removeMax())            \n",
    "pq.getMax()\n",
    "        \n",
    "        "
   ]
  },
  {
   "cell_type": "code",
   "execution_count": null,
   "metadata": {},
   "outputs": [],
   "source": []
  }
 ],
 "metadata": {
  "kernelspec": {
   "display_name": "Python 3",
   "language": "python",
   "name": "python3"
  },
  "language_info": {
   "codemirror_mode": {
    "name": "ipython",
    "version": 3
   },
   "file_extension": ".py",
   "mimetype": "text/x-python",
   "name": "python",
   "nbconvert_exporter": "python",
   "pygments_lexer": "ipython3",
   "version": "3.6.9"
  }
 },
 "nbformat": 4,
 "nbformat_minor": 4
}
