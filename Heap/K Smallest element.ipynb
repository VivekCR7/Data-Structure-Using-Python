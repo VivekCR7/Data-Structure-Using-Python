{
 "cells": [
  {
   "cell_type": "code",
   "execution_count": 9,
   "metadata": {},
   "outputs": [
    {
     "name": "stdout",
     "output_type": "stream",
     "text": [
      "[6] [2] [3] [1]\n",
      "6\n",
      "2\n",
      "3\n",
      "1\n"
     ]
    }
   ],
   "source": [
    "import heapq\n",
    "\n",
    "def kSmallest(arr,k):\n",
    "    heap = arr[:k]\n",
    "    heapq._heapify_max(heap)\n",
    "    n = len(arr)\n",
    "    for i in range(k,n):\n",
    "        if heap[0] > arr[i]:\n",
    "            heapq._heapreplace_max(heap,arr[i])\n",
    "    \n",
    "    return heap\n",
    "    \n",
    "\n",
    "arr = [10,6,7,2,3,8,9,11,1]\n",
    "k = 4\n",
    "elements = kSmallest(arr,4)\n",
    "for ele in elements:\n",
    "    print(ele)"
   ]
  },
  {
   "cell_type": "code",
   "execution_count": null,
   "metadata": {},
   "outputs": [],
   "source": []
  }
 ],
 "metadata": {
  "kernelspec": {
   "display_name": "Python 3",
   "language": "python",
   "name": "python3"
  },
  "language_info": {
   "codemirror_mode": {
    "name": "ipython",
    "version": 3
   },
   "file_extension": ".py",
   "mimetype": "text/x-python",
   "name": "python",
   "nbconvert_exporter": "python",
   "pygments_lexer": "ipython3",
   "version": "3.6.9"
  }
 },
 "nbformat": 4,
 "nbformat_minor": 4
}
