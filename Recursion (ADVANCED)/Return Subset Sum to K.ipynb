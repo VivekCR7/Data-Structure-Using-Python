{
 "cells": [
  {
   "cell_type": "code",
   "execution_count": 1,
   "metadata": {},
   "outputs": [
    {
     "name": "stdout",
     "output_type": "stream",
     "text": [
      "9\n",
      "5 12 3 17 1 18 15 3 17\n",
      "6\n",
      "5 1 \n",
      "3 3 \n"
     ]
    }
   ],
   "source": [
    "def PrintSubset(arr,n,v,sum):\n",
    "    \n",
    "    if sum == 0:\n",
    "        for x in v[::-1]:\n",
    "            print(x,end=\" \")\n",
    "        print()\n",
    "        return\n",
    "    \n",
    "    if n == 0:\n",
    "        return\n",
    "    \n",
    "    PrintSubset(arr,n-1,v,sum)\n",
    "    \n",
    "    newAns = []+v\n",
    "    newAns.append(arr[n-1])\n",
    "    PrintSubset(arr,n-1,newAns,sum-arr[n-1])\n",
    "\n",
    "    \n",
    "x = int(input())\n",
    "arr = [int(i) for i in input().split()]\n",
    "sum = int(input())\n",
    "n = len(arr)\n",
    "PrintSubset(arr,n,[],sum)"
   ]
  },
  {
   "cell_type": "code",
   "execution_count": null,
   "metadata": {},
   "outputs": [],
   "source": [
    "#more optimized code\n"
   ]
  }
 ],
 "metadata": {
  "kernelspec": {
   "display_name": "Python 3",
   "language": "python",
   "name": "python3"
  },
  "language_info": {
   "codemirror_mode": {
    "name": "ipython",
    "version": 3
   },
   "file_extension": ".py",
   "mimetype": "text/x-python",
   "name": "python",
   "nbconvert_exporter": "python",
   "pygments_lexer": "ipython3",
   "version": "3.6.9"
  }
 },
 "nbformat": 4,
 "nbformat_minor": 4
}
